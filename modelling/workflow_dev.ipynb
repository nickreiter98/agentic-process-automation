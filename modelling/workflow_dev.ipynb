{
 "cells": [
  {
   "cell_type": "code",
   "execution_count": 9,
   "metadata": {},
   "outputs": [],
   "source": [
    "from workflow import ModelGenerator\n",
    "import workflow"
   ]
  },
  {
   "cell_type": "code",
   "execution_count": 2,
   "metadata": {},
   "outputs": [],
   "source": [
    "model = ModelGenerator()"
   ]
  },
  {
   "cell_type": "code",
   "execution_count": 3,
   "metadata": {},
   "outputs": [],
   "source": [
    "model.add_start_event()\n",
    "model.add_task('register for app')\n",
    "model.add_task('chose product')\n",
    "model.add_task('add product to cart')\n",
    "model.add_task('checkout')\n",
    "model.add_task('payment')\n",
    "model.add_exclusive_gateway('payment successfull')\n",
    "model.add_task('transaction aborted')\n",
    "model.add_task('start shipping')\n",
    "model.add_end_event()\n",
    "model.add_end_event()\n",
    "\n",
    "model.add_edge('start', 'register for app')\n",
    "model.add_edge('register for app', 'chose product')\n",
    "model.add_edge('chose product', 'add product to cart')\n",
    "model.add_edge('add product to cart', 'checkout')\n",
    "model.add_edge('checkout', 'payment')\n",
    "model.add_exclusive_edge('payment successfull', 'start shipping', 'Yes')\n",
    "model.add_exclusive_edge('payment successfull', 'transaction aborted', 'No')\n",
    "model.add_edge('transaction aborted', 'end')\n",
    "model.add_edge('start shipping', 'end')\n"
   ]
  },
  {
   "cell_type": "code",
   "execution_count": 10,
   "metadata": {},
   "outputs": [
    {
     "name": "stdout",
     "output_type": "stream",
     "text": [
      "('start', 'register for app')\n",
      "('register for app', 'chose product')\n",
      "('chose product', 'add product to cart')\n",
      "('add product to cart', 'checkout')\n",
      "('checkout', 'payment')\n",
      "('payment successfull', 'start shipping', 'Yes')\n",
      "('payment successfull', 'transaction aborted', 'No')\n",
      "('transaction aborted', 'end')\n",
      "('start shipping', 'end')\n"
     ]
    }
   ],
   "source": [
    "for edge in model.edges:\n",
    "    if isinstance(edge, workflow.ExclusiveEdge):\n",
    "        print((edge.start, edge.end, edge.condition))\n",
    "    else:\n",
    "        print((edge.start, edge.end))"
   ]
  },
  {
   "cell_type": "code",
   "execution_count": null,
   "metadata": {},
   "outputs": [],
   "source": []
  }
 ],
 "metadata": {
  "kernelspec": {
   "display_name": ".venv",
   "language": "python",
   "name": "python3"
  },
  "language_info": {
   "codemirror_mode": {
    "name": "ipython",
    "version": 3
   },
   "file_extension": ".py",
   "mimetype": "text/x-python",
   "name": "python",
   "nbconvert_exporter": "python",
   "pygments_lexer": "ipython3",
   "version": "3.10.12"
  }
 },
 "nbformat": 4,
 "nbformat_minor": 2
}
