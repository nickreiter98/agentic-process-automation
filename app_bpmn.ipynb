{
 "cells": [
  {
   "cell_type": "markdown",
   "metadata": {},
   "source": []
  },
  {
   "cell_type": "code",
   "execution_count": 1,
   "metadata": {},
   "outputs": [],
   "source": [
    "from modelling.model_generation import generate_model"
   ]
  },
  {
   "cell_type": "code",
   "execution_count": 45,
   "metadata": {},
   "outputs": [],
   "source": [
    "\n",
    "# prompt ='you are writing an email and sending the email to your boss. if the email is not sent, you will be fired. if the email is send you are gonna be promoted?'\n",
    "prompt = 'Get the weather data about berlin. If it is warmer than 10celsius write a love poem about the current weather, if colder write a negativ review abaout berlin. in both cases store the text in a file'\n",
    "# prompt = 'Get the bank statement of the user with the id 2554727. If he has more than 1000€ in his account, send him a message that he is rich. If he has less than 1000€, send him a message that he is poor.'\n",
    "# prompt = 'Get the weather data about berlin. Then write a love poem about the current weathe and negativ review abaout berlin. Also store the text in a file'\n",
    "# prompt = 'Consider a process for purchasing items from an online shop. The user starts an order by logging in to their account. Then, the user simultaneously selects the items to purchase and sets a payment method. Afterward, the user either pays or completes an installment agreement. After selecting the items, the user chooses between multiple options for a free reward. Since the reward value depends on the purchase value, this step is done after selecting the items, but it is independent of the payment activities'\n",
    "\n",
    "\n",
    "\n",
    "process = generate_model(prompt)"
   ]
  },
  {
   "cell_type": "code",
   "execution_count": 46,
   "metadata": {},
   "outputs": [],
   "source": [
    "import pickle\n",
    "with open('dev_bpmn/process_object_exclusive.pkl', 'wb') as outp:\n",
    "          pickle.dump(process, outp)\n",
    "\n",
    "with open('dev_bpmn/process_object_exclusive.pkl', 'rb') as inp:\n",
    "    process = pickle.load(inp)"
   ]
  },
  {
   "cell_type": "code",
   "execution_count": 47,
   "metadata": {},
   "outputs": [
    {
     "data": {
      "image/png": "[encoded data removed]",
      "text/plain": [
       "<Figure size 640x480 with 1 Axes>"
      ]
     },
     "metadata": {},
     "output_type": "display_data"
    }
   ],
   "source": [
    "process.view_bpmn()"
   ]
  },
  {
   "cell_type": "code",
   "execution_count": 48,
   "metadata": {},
   "outputs": [
    {
     "data": {
      "text/plain": [
       "<modelling.generator.AdjacentDict at 0x726898a1d330>"
      ]
     },
     "execution_count": 48,
     "metadata": {},
     "output_type": "execute_result"
    }
   ],
   "source": [
    "process_dict = process.get_as_adjacent_dict()\n",
    "process_dict"
   ]
  },
  {
   "cell_type": "code",
   "execution_count": 29,
   "metadata": {},
   "outputs": [],
   "source": [
    "start = process_dict.get_start_node()"
   ]
  },
  {
   "cell_type": "code",
   "execution_count": 35,
   "metadata": {},
   "outputs": [],
   "source": [
    "next = process_dict.get_target_nodes(next)"
   ]
  },
  {
   "cell_type": "code",
   "execution_count": 36,
   "metadata": {},
   "outputs": [
    {
     "data": {
      "text/plain": [
       "[(id8413e220-0291-42b1-8eeb-e085b80b5965@send rich message,\n",
       "  'balance more than 1000€'),\n",
       " (idb51dabb8-19eb-453b-81d4-2b1271dc8f4c@send poor message,\n",
       "  'balance less than 1000€')]"
      ]
     },
     "execution_count": 36,
     "metadata": {},
     "output_type": "execute_result"
    }
   ],
   "source": [
    "next"
   ]
  },
  {
   "cell_type": "code",
   "execution_count": null,
   "metadata": {},
   "outputs": [],
   "source": [
    "process.get_target_nodes(node)"
   ]
  },
  {
   "cell_type": "code",
   "execution_count": null,
   "metadata": {},
   "outputs": [],
   "source": [
    "iterable_graph = process.get_iterable_graph()\n",
    "iterable_graph "
   ]
  },
  {
   "cell_type": "code",
   "execution_count": 37,
   "metadata": {},
   "outputs": [
    {
     "name": "stdout",
     "output_type": "stream",
     "text": [
      "Process is started\n"
     ]
    },
    {
     "ename": "Exception",
     "evalue": "Too few targets for source node",
     "output_type": "error",
     "traceback": [
      "\u001b[0;31m---------------------------------------------------------------------------\u001b[0m",
      "\u001b[0;31mException\u001b[0m                                 Traceback (most recent call last)",
      "Cell \u001b[0;32mIn[37], line 4\u001b[0m\n\u001b[1;32m      1\u001b[0m \u001b[38;5;28;01mfrom\u001b[39;00m \u001b[38;5;21;01mexecution\u001b[39;00m\u001b[38;5;21;01m.\u001b[39;00m\u001b[38;5;21;01mexecuter\u001b[39;00m \u001b[38;5;28;01mimport\u001b[39;00m Executor\n\u001b[1;32m      3\u001b[0m executer \u001b[38;5;241m=\u001b[39m Executor(prompt, process_dict)\n\u001b[0;32m----> 4\u001b[0m new_workflow \u001b[38;5;241m=\u001b[39m \u001b[43mexecuter\u001b[49m\u001b[38;5;241;43m.\u001b[39;49m\u001b[43mrun\u001b[49m\u001b[43m(\u001b[49m\u001b[43m)\u001b[49m\n\u001b[1;32m      5\u001b[0m \u001b[38;5;66;03m# executer.execute()\u001b[39;00m\n",
      "File \u001b[0;32m~/Documents/agentic-process-automation/execution/executer.py:106\u001b[0m, in \u001b[0;36mExecutor.run\u001b[0;34m(self)\u001b[0m\n\u001b[1;32m    103\u001b[0m current_node \u001b[38;5;241m=\u001b[39m \u001b[38;5;28mself\u001b[39m\u001b[38;5;241m.\u001b[39mprocess_modell\u001b[38;5;241m.\u001b[39mget_start_node()\n\u001b[1;32m    104\u001b[0m output \u001b[38;5;241m=\u001b[39m \u001b[38;5;124m'\u001b[39m\u001b[38;5;124m'\u001b[39m\n\u001b[0;32m--> 106\u001b[0m \u001b[38;5;28;43mself\u001b[39;49m\u001b[38;5;241;43m.\u001b[39;49m\u001b[43m_check_node_for_execution\u001b[49m\u001b[43m(\u001b[49m\u001b[43mcurrent_node\u001b[49m\u001b[43m,\u001b[49m\u001b[43m \u001b[49m\u001b[43moutput\u001b[49m\u001b[43m)\u001b[49m\n",
      "File \u001b[0;32m~/Documents/agentic-process-automation/execution/executer.py:79\u001b[0m, in \u001b[0;36mExecutor._check_node_for_execution\u001b[0;34m(self, current_node, output)\u001b[0m\n\u001b[1;32m     77\u001b[0m \u001b[38;5;28;01mif\u001b[39;00m \u001b[38;5;28mself\u001b[39m\u001b[38;5;241m.\u001b[39mprocess_modell\u001b[38;5;241m.\u001b[39mis_start_event(current_node):\n\u001b[1;32m     78\u001b[0m     \u001b[38;5;28mprint\u001b[39m(\u001b[38;5;124m'\u001b[39m\u001b[38;5;124mProcess is started\u001b[39m\u001b[38;5;124m'\u001b[39m)\n\u001b[0;32m---> 79\u001b[0m     current_node \u001b[38;5;241m=\u001b[39m \u001b[38;5;28;43mself\u001b[39;49m\u001b[38;5;241;43m.\u001b[39;49m\u001b[43mprocess_modell\u001b[49m\u001b[38;5;241;43m.\u001b[39;49m\u001b[43mget_target_nodes\u001b[49m\u001b[43m(\u001b[49m\u001b[43mcurrent_node\u001b[49m\u001b[43m)\u001b[49m\n\u001b[1;32m     80\u001b[0m \u001b[38;5;28;01melif\u001b[39;00m \u001b[38;5;28mself\u001b[39m\u001b[38;5;241m.\u001b[39mprocess_modell\u001b[38;5;241m.\u001b[39mis_task(current_node):\n\u001b[1;32m     81\u001b[0m     \u001b[38;5;28mprint\u001b[39m(\u001b[38;5;124mf\u001b[39m\u001b[38;5;124m'\u001b[39m\u001b[38;5;124mFollowing node is executed: \u001b[39m\u001b[38;5;132;01m{\u001b[39;00mcurrent_node\u001b[38;5;241m.\u001b[39mget_name()\u001b[38;5;132;01m}\u001b[39;00m\u001b[38;5;124m'\u001b[39m)\n",
      "File \u001b[0;32m~/Documents/agentic-process-automation/modelling/generator.py:104\u001b[0m, in \u001b[0;36mAdjacentDict.get_target_nodes\u001b[0;34m(self, source)\u001b[0m\n\u001b[1;32m    102\u001b[0m \u001b[38;5;28;01mdef\u001b[39;00m \u001b[38;5;21mget_target_nodes\u001b[39m(\u001b[38;5;28mself\u001b[39m, source):\n\u001b[1;32m    103\u001b[0m     \u001b[38;5;28;01mif\u001b[39;00m \u001b[38;5;28mlen\u001b[39m(\u001b[38;5;28mself\u001b[39m\u001b[38;5;241m.\u001b[39mgraph[source]) \u001b[38;5;241m<\u001b[39m \u001b[38;5;241m2\u001b[39m:\n\u001b[0;32m--> 104\u001b[0m         \u001b[38;5;28;01mraise\u001b[39;00m \u001b[38;5;167;01mException\u001b[39;00m(\u001b[38;5;124m'\u001b[39m\u001b[38;5;124mToo few targets for source node\u001b[39m\u001b[38;5;124m'\u001b[39m)\n\u001b[1;32m    105\u001b[0m     \u001b[38;5;28;01mreturn\u001b[39;00m [(target, \u001b[38;5;28mself\u001b[39m\u001b[38;5;241m.\u001b[39mgraph[source][target][\u001b[38;5;241m0\u001b[39m][\u001b[38;5;124m'\u001b[39m\u001b[38;5;124mname\u001b[39m\u001b[38;5;124m'\u001b[39m]) \u001b[38;5;28;01mfor\u001b[39;00m target \u001b[38;5;129;01min\u001b[39;00m \u001b[38;5;28mself\u001b[39m\u001b[38;5;241m.\u001b[39mgraph[source]]\n",
      "\u001b[0;31mException\u001b[0m: Too few targets for source node"
     ]
    }
   ],
   "source": [
    "from execution.executer import Executor\n",
    "\n",
    "executer = Executor(prompt, process_dict)\n",
    "new_workflow = executer.run()\n",
    "# executer.execute()\n",
    "\n",
    "\n"
   ]
  },
  {
   "cell_type": "code",
   "execution_count": null,
   "metadata": {},
   "outputs": [],
   "source": []
  }
 ],
 "metadata": {
  "kernelspec": {
   "display_name": ".venv",
   "language": "python",
   "name": "python3"
  },
  "language_info": {
   "codemirror_mode": {
    "name": "ipython",
    "version": 3
   },
   "file_extension": ".py",
   "mimetype": "text/x-python",
   "name": "python",
   "nbconvert_exporter": "python",
   "pygments_lexer": "ipython3",
   "version": "3.10.12"
  }
 },
 "nbformat": 4,
 "nbformat_minor": 2
}
