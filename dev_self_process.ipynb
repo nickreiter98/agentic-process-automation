{
 "cells": [
  {
   "cell_type": "code",
   "execution_count": 1,
   "metadata": {},
   "outputs": [],
   "source": [
    "import pickle\n",
    "\n",
    "from modelling.model_generation import generate_model\n",
    "from execution.executer import Executor\n",
    "\n",
    "# prompt ='you are writing an email and sending the email to your boss. if the email is not sent, you will be fired. if the email is send you are gonna be promoted?'\n",
    "prompt = 'Get the weather data about berlin. If it is warmer than 10celsius write a love poem about the current weather, if colder write a negativ review abaout berlin. in both cases store the text in a file'\n",
    "# prompt = 'Get the bank statement of the user with the id 2554727. If he has more than 1000€ in his account, send him a message that he is rich. If he has less than 1000€, send him a message that he is poor.'\n",
    "# prompt = 'Get the weather data about berlin. Then write a love poem about the current weathe and negativ review abaout berlin. Also store the text in a file'\n",
    "# prompt = 'Consider a process for purchasing items from an online shop. The user starts an order by logging in to their account. Then, the user simultaneously selects the items to purchase and sets a payment method. Afterward, the user either pays or completes an installment agreement. After selecting the items, the user chooses between multiple options for a free reward. Since the reward value depends on the purchase value, this step is done after selecting the items, but it is independent of the payment activities'\n",
    "\n",
    "process = generate_model(prompt)\n",
    "\n",
    "\n",
    "# with open('_dev_self_defined/process_object_weather_berlin.pkl', 'wb') as outp:\n",
    "#     process = pickle.load(outp)\n",
    "\n",
    "with open('_dev_self_defined/process_object_weather_berlin.pkl', 'rb') as inp:\n",
    "    pickle.load(inp)\n",
    "\n",
    "\n",
    "executor = Executor(prompt, process)\n",
    "\n",
    "\n",
    "\n"
   ]
  },
  {
   "cell_type": "code",
   "execution_count": null,
   "metadata": {},
   "outputs": [],
   "source": []
  }
 ],
 "metadata": {
  "kernelspec": {
   "display_name": ".venv",
   "language": "python",
   "name": "python3"
  },
  "language_info": {
   "codemirror_mode": {
    "name": "ipython",
    "version": 3
   },
   "file_extension": ".py",
   "mimetype": "text/x-python",
   "name": "python",
   "nbconvert_exporter": "python",
   "pygments_lexer": "ipython3",
   "version": "3.10.12"
  }
 },
 "nbformat": 4,
 "nbformat_minor": 2
}
