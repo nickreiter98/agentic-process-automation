{
 "cells": [
  {
   "cell_type": "code",
   "execution_count": 3,
   "metadata": {},
   "outputs": [],
   "source": [
    "import func_agent.agent as agent\n",
    "\n",
    "import func_repository.repository as repository\n",
    "\n",
    "from openai import OpenAI\n"
   ]
  },
  {
   "cell_type": "code",
   "execution_count": 2,
   "metadata": {},
   "outputs": [
    {
     "data": {
      "text/plain": [
       "[<function func_repository.descriptions.d_get_coordinates_by_city(city: str)>,\n",
       " <function func_repository.descriptions.d_get_current_weather(city: str)>,\n",
       " <function func_repository.descriptions.d_send_email_to(recipient: str, content: str, subject: str)>]"
      ]
     },
     "execution_count": 2,
     "metadata": {},
     "output_type": "execute_result"
    }
   ],
   "source": [
    "repo = repository.Repository()\n",
    "repo.functions"
   ]
  },
  {
   "cell_type": "code",
   "execution_count": 3,
   "metadata": {},
   "outputs": [
    {
     "name": "stdout",
     "output_type": "stream",
     "text": [
      "."
     ]
    }
   ],
   "source": [
    "agent = agent.Agent(model='gpt-3.5-turbo', functions=repo.functions)\n",
    "response = agent.ask('What is the weather in Freiburg?')"
   ]
  },
  {
   "cell_type": "code",
   "execution_count": 5,
   "metadata": {},
   "outputs": [],
   "source": [
    "client = OpenAI()\n",
    "\n",
    "response = client.chat.completions.create(\n",
    "  model=\"gpt-3.5-turbo\",\n",
    "  messages=[\n",
    "    {\"role\": \"system\", \"content\": \"You are a helpful assistant.\"},\n",
    "    {\"role\": \"user\", \"content\": \"What is the weather in Freiburg?\"}]\n",
    ")"
   ]
  },
  {
   "cell_type": "code",
   "execution_count": 7,
   "metadata": {},
   "outputs": [
    {
     "data": {
      "text/plain": [
       "\"I'm sorry, I am unable to provide real-time weather updates. You can check the current weather in Freiburg by using a weather website or app like Weather.com or AccuWeather.\""
      ]
     },
     "execution_count": 7,
     "metadata": {},
     "output_type": "execute_result"
    }
   ],
   "source": [
    "response.choices[0].message.content"
   ]
  },
  {
   "cell_type": "code",
   "execution_count": 7,
   "metadata": {},
   "outputs": [
    {
     "data": {
      "text/plain": [
       "'function_call'"
      ]
     },
     "execution_count": 7,
     "metadata": {},
     "output_type": "execute_result"
    }
   ],
   "source": [
    "response.choices[0].finish_reason"
   ]
  },
  {
   "cell_type": "code",
   "execution_count": 4,
   "metadata": {},
   "outputs": [
    {
     "data": {
      "text/plain": [
       "[{'name': 'd_get_coordinates_by_city',\n",
       "  'description': 'provides coordinates of a given city',\n",
       "  'parameters': {'type': 'object',\n",
       "   'properties': {'city': {'description': 'name of the city',\n",
       "     'type': 'string'}}},\n",
       "  'required': ['city']},\n",
       " {'name': 'd_get_current_weather',\n",
       "  'description': 'provides current weather data for a given city',\n",
       "  'parameters': {'type': 'object',\n",
       "   'properties': {'city': {'description': 'name of the city',\n",
       "     'type': 'string'}}},\n",
       "  'required': ['city']},\n",
       " {'name': 'd_send_email_to',\n",
       "  'description': 'sends an email to a given recipient',\n",
       "  'parameters': {'type': 'object',\n",
       "   'properties': {'recipient': {'description': 'email address of the recipient',\n",
       "     'type': 'string'},\n",
       "    'content': {'description': 'content of the email to be sent',\n",
       "     'type': 'string'},\n",
       "    'subject': {'description': 'subject of the email to be sent',\n",
       "     'type': 'string'}}},\n",
       "  'required': ['recipient', 'content', 'subject']}]"
      ]
     },
     "execution_count": 4,
     "metadata": {},
     "output_type": "execute_result"
    }
   ],
   "source": [
    "agent.functions"
   ]
  },
  {
   "cell_type": "code",
   "execution_count": null,
   "metadata": {},
   "outputs": [],
   "source": [
    "import inspect\n",
    "import func_repository.descriptions as desc\n",
    "\n",
    "ls_func = []    \n",
    "\n",
    "for name, obj in inspect.getmembers(desc):\n",
    "    if inspect.isfunction(obj) and name.startswith('d_'): \n",
    "        print(obj)\n",
    "        ls_func.append(obj)\n",
    "\n"
   ]
  },
  {
   "cell_type": "code",
   "execution_count": null,
   "metadata": {},
   "outputs": [],
   "source": [
    "ls_func"
   ]
  },
  {
   "cell_type": "code",
   "execution_count": null,
   "metadata": {},
   "outputs": [],
   "source": []
  },
  {
   "cell_type": "code",
   "execution_count": null,
   "metadata": {},
   "outputs": [],
   "source": []
  },
  {
   "cell_type": "code",
   "execution_count": null,
   "metadata": {},
   "outputs": [],
   "source": [
    "import os\n",
    "import base64\n",
    "from email.message import EmailMessage\n",
    "from google.auth.transport.requests import Request\n",
    "from google.oauth2.credentials import Credentials\n",
    "from google_auth_oauthlib.flow import InstalledAppFlow\n",
    "from googleapiclient.discovery import build\n",
    "from googleapiclient.errors import HttpError\n",
    "\n",
    "def send_email_to(recipient: str, content: str, subject: str):\n",
    "    CLIENT_FILE = 'account_01.json'\n",
    "    SCOPES = ['https://mail.google.com/']\n",
    "\n",
    "    creds = None\n",
    "\n",
    "    if os.path.exists('token.json'):\n",
    "        creds = Credentials.from_authorized_user_file('token.json', SCOPES)\n",
    "\n",
    "    if not creds or not creds.valid:\n",
    "        if creds and creds.expired and creds.refresh_token:\n",
    "            creds.refresh(Request())\n",
    "        else:\n",
    "            flow = InstalledAppFlow.from_client_secrets_file(CLIENT_FILE, SCOPES)\n",
    "            creds = flow.run_local_server(port=0)\n",
    "        with open('token.json', 'w') as token:\n",
    "            token.write(creds.to_json())\n",
    "\n",
    "        service = build('gmail', 'v1', credentials=creds)\n",
    "\n",
    "    message = EmailMessage()\n",
    "    message.set_content(content)\n",
    "    message['To'] = recipient\n",
    "    message['From'] = 'nick.reiter6.11.98@gmail.com'\n",
    "    message['Subject'] = subject\n",
    "\n",
    "    raw_string = base64.urlsafe_b64encode(message.as_bytes()).decode()\n",
    "\n",
    "    create_message = {'raw': raw_string}\n",
    "\n",
    "    send_message = (\n",
    "            service.users()\n",
    "            .messages()\n",
    "            .send(userId=\"me\", body=create_message)\n",
    "            .execute()\n",
    "        )\n",
    "\n",
    "    return send_message\n",
    "\n",
    "        "
   ]
  },
  {
   "cell_type": "code",
   "execution_count": 4,
   "metadata": {},
   "outputs": [],
   "source": [
    "import networkx as nx\n",
    "import matplotlib.pyplot as plt\n",
    "\n",
    "class DirectedGraph:\n",
    "    def __init__(self):\n",
    "        self.graph = nx.DiGraph()\n",
    "\n",
    "    def add_edge(self, start, end):\n",
    "        self.graph.add_edge(start, end)\n",
    "\n",
    "    def display(self):\n",
    "        pos = nx.spring_layout(self.graph)\n",
    "        nx.draw(self.graph, pos, with_labels=True, arrows=True)\n",
    "        plt.show()\n",
    "\n",
    "# Example usage:\n"
   ]
  },
  {
   "cell_type": "code",
   "execution_count": 1,
   "metadata": {},
   "outputs": [],
   "source": [
    "from workfl_agent.agent import Agent as WAgent"
   ]
  },
  {
   "cell_type": "code",
   "execution_count": 2,
   "metadata": {},
   "outputs": [],
   "source": [
    "wagent = WAgent()\n"
   ]
  },
  {
   "cell_type": "code",
   "execution_count": 6,
   "metadata": {},
   "outputs": [
    {
     "data": {
      "image/png": "[encoded data removed]",
      "text/plain": [
       "<Figure size 640x480 with 1 Axes>"
      ]
     },
     "metadata": {},
     "output_type": "display_data"
    }
   ],
   "source": [
    "import json\n",
    "res = wagent.ask('Can you please help me? Find a cool excel including data about social changes in Germany in the internet. Download it and then read read it again. Then the information should be summarized. Subsequently send to my boss boss@gdata.de. Repeat from the beginning')\n",
    "graph_representation = json.loads(res)\n",
    "\n",
    "\n",
    "graph = DirectedGraph()\n",
    "\n",
    "for key in graph_representation:\n",
    "    values = graph_representation[key]\n",
    "    for value in values:\n",
    "        graph.add_edge(key, value)\n",
    "\n",
    "graph.display()"
   ]
  },
  {
   "cell_type": "code",
   "execution_count": 21,
   "metadata": {},
   "outputs": [
    {
     "data": {
      "text/plain": [
       "{'find a cool excel including data about social changes in Germany in the internet': ['download the excel'],\n",
       " 'download the excel': ['read the excel', 'summarize the information'],\n",
       " 'read the excel': ['summarize the information'],\n",
       " 'summarize the information': ['send to boss@gdata.de']}"
      ]
     },
     "execution_count": 21,
     "metadata": {},
     "output_type": "execute_result"
    }
   ],
   "source": [
    "graph_representation"
   ]
  },
  {
   "cell_type": "code",
   "execution_count": 29,
   "metadata": {},
   "outputs": [
    {
     "data": {
      "text/plain": [
       "\"{\\n    'find social changes data in Germany': ['download excel'], \\n    'download excel': ['read the excel'], \\n    'read the excel': ['summarize the information'], \\n    'summarize the information': ['send email to boss@gdata.de']\\n}\""
      ]
     },
     "execution_count": 29,
     "metadata": {},
     "output_type": "execute_result"
    }
   ],
   "source": [
    "res"
   ]
  },
  {
   "cell_type": "code",
   "execution_count": null,
   "metadata": {},
   "outputs": [],
   "source": []
  }
 ],
 "metadata": {
  "kernelspec": {
   "display_name": ".venv",
   "language": "python",
   "name": "python3"
  },
  "language_info": {
   "codemirror_mode": {
    "name": "ipython",
    "version": 3
   },
   "file_extension": ".py",
   "mimetype": "text/x-python",
   "name": "python",
   "nbconvert_exporter": "python",
   "pygments_lexer": "ipython3",
   "version": "3.10.12"
  }
 },
 "nbformat": 4,
 "nbformat_minor": 2
}
