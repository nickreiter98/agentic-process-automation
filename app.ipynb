{
 "cells": [
  {
   "cell_type": "code",
   "execution_count": 1,
   "metadata": {},
   "outputs": [],
   "source": [
    "import func_agent.agents as agents\n",
    "\n",
    "import func_repository.repository as repository\n",
    "\n",
    "from openai import OpenAI\n",
    "\n",
    "import func_agent\n",
    "\n",
    "import requests\n",
    "import json"
   ]
  },
  {
   "cell_type": "code",
   "execution_count": 13,
   "metadata": {},
   "outputs": [],
   "source": [
    "def get_current_weather(city: str):\n",
    "    \"\"\"provides current weather data for a given city\n",
    "\n",
    "    :param city: name of the city\n",
    "    :return: current weather parameters\n",
    "    \"\"\"\n",
    "    \n",
    "    url = 'http://api.weatherapi.com/v1/current.json'\n",
    "\n",
    "    req = requests.get(\n",
    "        url=url,\n",
    "        params={\n",
    "            'key': '3476778c46a6437e80e112007242203',\n",
    "            'q': city\n",
    "        }\n",
    "    )\n",
    "\n",
    "    return req.json()\n",
    "    \n",
    "\n",
    "def get_coordinates_by_city(city: str):\n",
    "    \"\"\"provides coordinates of a given city\n",
    "\n",
    "    :param city: name of the city\n",
    "    :return: coordinates of the city\n",
    "    \"\"\"\n",
    "    \n",
    "    url = 'https://nominatim.openstreetmap.org/search'\n",
    "\n",
    "    req = requests.get(\n",
    "        url=url,\n",
    "        params={\n",
    "            'q': city,\n",
    "            'format': 'json'\n",
    "        }\n",
    "    )\n",
    "\n",
    "    return req.json()\n",
    "    "
   ]
  },
  {
   "cell_type": "code",
   "execution_count": 15,
   "metadata": {},
   "outputs": [
    {
     "data": {
      "text/plain": [
       "[{'name': 'get_current_weather',\n",
       "  'description': 'provides current weather data for a given city',\n",
       "  'parameters': {'type': 'object',\n",
       "   'properties': {'city': {'description': 'name of the city',\n",
       "     'type': 'string'}}},\n",
       "  'required': ['city']},\n",
       " {'name': 'get_coordinates_by_city',\n",
       "  'description': 'provides coordinates of a given city',\n",
       "  'parameters': {'type': 'object',\n",
       "   'properties': {'city': {'description': 'name of the city',\n",
       "     'type': 'string'}}},\n",
       "  'required': ['city']}]"
      ]
     },
     "execution_count": 15,
     "metadata": {},
     "output_type": "execute_result"
    }
   ],
   "source": [
    "agent = agents.Agent(model_name='gpt-3.5-turbo', functions=[get_current_weather, get_coordinates_by_city])\n",
    "agent.functions"
   ]
  },
  {
   "cell_type": "code",
   "execution_count": 14,
   "metadata": {},
   "outputs": [
    {
     "data": {
      "text/plain": [
       "[{'place_id': 285687514,\n",
       "  'licence': 'Data © OpenStreetMap contributors, ODbL 1.0. http://osm.org/copyright',\n",
       "  'osm_type': 'relation',\n",
       "  'osm_id': 121430,\n",
       "  'lat': '46.7323875',\n",
       "  'lon': '-117.000165',\n",
       "  'class': 'boundary',\n",
       "  'type': 'administrative',\n",
       "  'place_rank': 16,\n",
       "  'importance': 0.5026345352272938,\n",
       "  'addresstype': 'town',\n",
       "  'name': 'Moscow',\n",
       "  'display_name': 'Moscow, Latah County, Idaho, United States',\n",
       "  'boundingbox': ['46.6986975', '46.7586080', '-117.0398820', '-116.9605363']},\n",
       " {'place_id': 175385790,\n",
       "  'licence': 'Data © OpenStreetMap contributors, ODbL 1.0. http://osm.org/copyright',\n",
       "  'osm_type': 'relation',\n",
       "  'osm_id': 102269,\n",
       "  'lat': '55.625578',\n",
       "  'lon': '37.6063916',\n",
       "  'class': 'boundary',\n",
       "  'type': 'administrative',\n",
       "  'place_rank': 8,\n",
       "  'importance': 0.7908193282833463,\n",
       "  'addresstype': 'state',\n",
       "  'name': 'Москва',\n",
       "  'display_name': 'Москва, Центральный федеральный округ, Россия',\n",
       "  'boundingbox': ['55.1421745', '56.0212238', '36.8031012', '37.9674277']},\n",
       " {'place_id': 174706474,\n",
       "  'licence': 'Data © OpenStreetMap contributors, ODbL 1.0. http://osm.org/copyright',\n",
       "  'osm_type': 'relation',\n",
       "  'osm_id': 2555133,\n",
       "  'lat': '55.7505412',\n",
       "  'lon': '37.6174782',\n",
       "  'class': 'place',\n",
       "  'type': 'city',\n",
       "  'place_rank': 16,\n",
       "  'importance': 0.7908193282833463,\n",
       "  'addresstype': 'city',\n",
       "  'name': 'Москва',\n",
       "  'display_name': 'Москва, Центральный федеральный округ, Россия',\n",
       "  'boundingbox': ['55.4913076', '55.9577717', '37.2905020', '37.9674277']},\n",
       " {'place_id': 318466732,\n",
       "  'licence': 'Data © OpenStreetMap contributors, ODbL 1.0. http://osm.org/copyright',\n",
       "  'osm_type': 'relation',\n",
       "  'osm_id': 12196304,\n",
       "  'lat': '45.071096',\n",
       "  'lon': '-69.891586',\n",
       "  'class': 'boundary',\n",
       "  'type': 'administrative',\n",
       "  'place_rank': 16,\n",
       "  'importance': 0.37985987946060773,\n",
       "  'addresstype': 'town',\n",
       "  'name': 'Moscow',\n",
       "  'display_name': 'Moscow, Somerset County, Maine, 04920, United States',\n",
       "  'boundingbox': ['45.0647356', '45.1773584', '-69.9665917', '-69.7874730']},\n",
       " {'place_id': 292219008,\n",
       "  'licence': 'Data © OpenStreetMap contributors, ODbL 1.0. http://osm.org/copyright',\n",
       "  'osm_type': 'relation',\n",
       "  'osm_id': 197198,\n",
       "  'lat': '35.0619984',\n",
       "  'lon': '-89.4039612',\n",
       "  'class': 'boundary',\n",
       "  'type': 'administrative',\n",
       "  'place_rank': 16,\n",
       "  'importance': 0.3588882901947148,\n",
       "  'addresstype': 'village',\n",
       "  'name': 'Moscow',\n",
       "  'display_name': 'Moscow, Fayette County, West Tennessee, Tennessee, United States',\n",
       "  'boundingbox': ['35.0507500', '35.0661730', '-89.4110410', '-89.3718350']},\n",
       " {'place_id': 304772455,\n",
       "  'licence': 'Data © OpenStreetMap contributors, ODbL 1.0. http://osm.org/copyright',\n",
       "  'osm_type': 'relation',\n",
       "  'osm_id': 13383822,\n",
       "  'lat': '39.539867',\n",
       "  'lon': '-79.00680222727274',\n",
       "  'class': 'boundary',\n",
       "  'type': 'census',\n",
       "  'place_rank': 25,\n",
       "  'importance': 0.3304292999095745,\n",
       "  'addresstype': 'census',\n",
       "  'name': 'Moscow',\n",
       "  'display_name': 'Moscow, Allegany County, Maryland, United States',\n",
       "  'boundingbox': ['39.5311070', '39.5486700', '-79.0153208', '-79.0018640']},\n",
       " {'place_id': 303362734,\n",
       "  'licence': 'Data © OpenStreetMap contributors, ODbL 1.0. http://osm.org/copyright',\n",
       "  'osm_type': 'node',\n",
       "  'osm_id': 157606151,\n",
       "  'lat': '39.5437014',\n",
       "  'lon': '-79.0050273',\n",
       "  'class': 'place',\n",
       "  'type': 'hamlet',\n",
       "  'place_rank': 20,\n",
       "  'importance': 0.3304292999095745,\n",
       "  'addresstype': 'hamlet',\n",
       "  'name': 'Moscow',\n",
       "  'display_name': 'Moscow, Allegany County, Maryland, 21521, United States',\n",
       "  'boundingbox': ['39.5237014', '39.5637014', '-79.0250273', '-78.9850273']},\n",
       " {'place_id': 293881580,\n",
       "  'licence': 'Data © OpenStreetMap contributors, ODbL 1.0. http://osm.org/copyright',\n",
       "  'osm_type': 'relation',\n",
       "  'osm_id': 182742,\n",
       "  'lat': '38.8570117',\n",
       "  'lon': '-84.2291017',\n",
       "  'class': 'boundary',\n",
       "  'type': 'administrative',\n",
       "  'place_rank': 16,\n",
       "  'importance': 0.3280698768979776,\n",
       "  'addresstype': 'village',\n",
       "  'name': 'Moscow',\n",
       "  'display_name': 'Moscow, Washington Township, Clermont County, Ohio, United States',\n",
       "  'boundingbox': ['38.8538320', '38.8662320', '-84.2331761', '-84.2200810']},\n",
       " {'place_id': 312317490,\n",
       "  'licence': 'Data © OpenStreetMap contributors, ODbL 1.0. http://osm.org/copyright',\n",
       "  'osm_type': 'relation',\n",
       "  'osm_id': 188588,\n",
       "  'lat': '41.3367497',\n",
       "  'lon': '-75.5185191',\n",
       "  'class': 'boundary',\n",
       "  'type': 'administrative',\n",
       "  'place_rank': 16,\n",
       "  'importance': 0.29557607821300264,\n",
       "  'addresstype': 'borough',\n",
       "  'name': 'Moscow',\n",
       "  'display_name': 'Moscow, Lackawanna County, Pennsylvania, 18444, United States',\n",
       "  'boundingbox': ['41.3321096', '41.3595786', '-75.5577787', '-75.5051426']},\n",
       " {'place_id': 242966153,\n",
       "  'licence': 'Data © OpenStreetMap contributors, ODbL 1.0. http://osm.org/copyright',\n",
       "  'osm_type': 'node',\n",
       "  'osm_id': 454519035,\n",
       "  'lat': '55.6329568',\n",
       "  'lon': '-4.4047697',\n",
       "  'class': 'place',\n",
       "  'type': 'village',\n",
       "  'place_rank': 19,\n",
       "  'importance': 0.29190327427879,\n",
       "  'addresstype': 'village',\n",
       "  'name': 'Moscow',\n",
       "  'display_name': 'Moscow, East Ayrshire, Alba / Scotland, KA4 8PN, United Kingdom',\n",
       "  'boundingbox': ['55.6129568', '55.6529568', '-4.4247697', '-4.3847697']}]"
      ]
     },
     "execution_count": 14,
     "metadata": {},
     "output_type": "execute_result"
    }
   ],
   "source": [
    "get_coordinates_by_city('Moscow')"
   ]
  },
  {
   "cell_type": "code",
   "execution_count": 2,
   "metadata": {},
   "outputs": [],
   "source": [
    "repo = repository.Repository()"
   ]
  },
  {
   "cell_type": "code",
   "execution_count": 3,
   "metadata": {},
   "outputs": [
    {
     "data": {
      "text/plain": [
       "[<function func_repository.descriptions.get_coordinates_by_city(city: str)>,\n",
       " <function func_repository.descriptions.get_current_weather(city: str)>]"
      ]
     },
     "execution_count": 3,
     "metadata": {},
     "output_type": "execute_result"
    }
   ],
   "source": [
    "repo.functions"
   ]
  },
  {
   "cell_type": "code",
   "execution_count": 7,
   "metadata": {},
   "outputs": [
    {
     "ename": "NameError",
     "evalue": "name 're' is not defined",
     "output_type": "error",
     "traceback": [
      "\u001b[0;31m---------------------------------------------------------------------------\u001b[0m",
      "\u001b[0;31mNameError\u001b[0m                                 Traceback (most recent call last)",
      "Cell \u001b[0;32mIn[7], line 1\u001b[0m\n\u001b[0;32m----> 1\u001b[0m \u001b[43mre\u001b[49m\n",
      "\u001b[0;31mNameError\u001b[0m: name 're' is not defined"
     ]
    }
   ],
   "source": [
    "for"
   ]
  },
  {
   "cell_type": "code",
   "execution_count": null,
   "metadata": {},
   "outputs": [],
   "source": []
  },
  {
   "cell_type": "code",
   "execution_count": 18,
   "metadata": {},
   "outputs": [],
   "source": [
    "client = OpenAI()\n",
    "\n",
    "response = client.chat.completions.create(\n",
    "  model=\"gpt-3.5-turbo\",\n",
    "  messages=[\n",
    "    {\"role\": \"system\", \"content\": \"You are a helpful assistant.\"},\n",
    "    {\"role\": \"user\", \"content\": \"get the coordinates of Berlin?\"},\n",
    "  ],\n",
    "  functions=agent.functions\n",
    ")"
   ]
  },
  {
   "cell_type": "code",
   "execution_count": 19,
   "metadata": {},
   "outputs": [],
   "source": [
    "response.choices[0].message.content"
   ]
  },
  {
   "cell_type": "code",
   "execution_count": 20,
   "metadata": {},
   "outputs": [
    {
     "data": {
      "text/plain": [
       "ChatCompletion(id='chatcmpl-95Z7N76gyL3rsqTyTnoGBS98zkyq4', choices=[Choice(finish_reason='function_call', index=0, logprobs=None, message=ChatCompletionMessage(content=None, role='assistant', function_call=FunctionCall(arguments='{\"city\":\"Berlin\"}', name='get_coordinates_by_city'), tool_calls=None))], created=1711113661, model='gpt-3.5-turbo-0125', object='chat.completion', system_fingerprint='fp_3bc1b5746c', usage=CompletionUsage(completion_tokens=16, prompt_tokens=98, total_tokens=114))"
      ]
     },
     "execution_count": 20,
     "metadata": {},
     "output_type": "execute_result"
    }
   ],
   "source": [
    "response"
   ]
  },
  {
   "cell_type": "code",
   "execution_count": 52,
   "metadata": {},
   "outputs": [],
   "source": []
  },
  {
   "cell_type": "code",
   "execution_count": null,
   "metadata": {},
   "outputs": [],
   "source": []
  },
  {
   "cell_type": "code",
   "execution_count": null,
   "metadata": {},
   "outputs": [],
   "source": []
  }
 ],
 "metadata": {
  "kernelspec": {
   "display_name": ".venv",
   "language": "python",
   "name": "python3"
  },
  "language_info": {
   "codemirror_mode": {
    "name": "ipython",
    "version": 3
   },
   "file_extension": ".py",
   "mimetype": "text/x-python",
   "name": "python",
   "nbconvert_exporter": "python",
   "pygments_lexer": "ipython3",
   "version": "3.10.12"
  }
 },
 "nbformat": 4,
 "nbformat_minor": 2
}
