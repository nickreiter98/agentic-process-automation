{
 "cells": [
  {
   "cell_type": "code",
   "execution_count": null,
   "metadata": {},
   "outputs": [],
   "source": []
  },
  {
   "cell_type": "code",
   "execution_count": null,
   "metadata": {},
   "outputs": [],
   "source": [
    "from func_agent.agent import Agent as FuncAgent \n",
    "from workfl_agent.agent import Agent as WorkflAgent\n",
    "\n",
    "import func_repository.repository as repository\n",
    "\n",
    "from openai import OpenAI\n",
    "\n",
    "import logging\n",
    "\n",
    "logging.basicConfig(level=logging.INFO)\n"
   ]
  },
  {
   "cell_type": "code",
   "execution_count": null,
   "metadata": {},
   "outputs": [
    {
     "data": {
      "text/plain": [
       "[<function func_repository.descriptions.d_get_coordinates_by_city(city: str)>,\n",
       " <function func_repository.descriptions.d_get_current_weather(city: str)>,\n",
       " <function func_repository.descriptions.d_send_email_to(recipient: str, content: str, subject: str)>,\n",
       " <function func_repository.descriptions.d_write_text(text_content: str, context_info: str) -> str>]"
      ]
     },
     "execution_count": 2,
     "metadata": {},
     "output_type": "execute_result"
    }
   ],
   "source": [
    "repo = repository.Repository()\n",
    "repo.functions"
   ]
  },
  {
   "cell_type": "code",
   "execution_count": null,
   "metadata": {},
   "outputs": [],
   "source": [
    "bagent = WorkflAgent(functions=repo.functions)\n",
    "#response = agent.ask('What is the weather in Freiburg?')"
   ]
  },
  {
   "cell_type": "code",
   "execution_count": null,
   "metadata": {},
   "outputs": [
    {
     "data": {
      "text/plain": [
       "[{'role': 'system',\n",
       "  'content': 'You are modeling a process workflow. You are given a textual description of a process workflow. \\nThe aim is to return the workflow description as a directional graph.\\nEvery described function from the text is mapped to a node. Keep the context of the function and include rather more information for one task.\\nThe graph must be returned in a JSON representation. The key is the source node and the values are the target nodes stored in a list.\\nI give you an example.\\nI would like to know how warm it is in Berlin. Put the information in an email and send it to Nick Reiter.\\n{\\n    \"get the weather data of Berlin\": [\"write the email\"],\\n    \"write the email\": [\"send the email to Nick Reiter\"],\\n    \"send the email to Nick Reiter\": []\\n}\\nOnly provide the clear JSON\\nIf the request is not a textual process worklfow description, behave like a normal chatbot!\\n'}]"
      ]
     },
     "execution_count": 4,
     "metadata": {},
     "output_type": "execute_result"
    }
   ],
   "source": [
    "bagent.chat_history"
   ]
  },
  {
   "cell_type": "code",
   "execution_count": null,
   "metadata": {},
   "outputs": [
    {
     "name": "stderr",
     "output_type": "stream",
     "text": [
      "INFO:httpx:HTTP Request: POST https://api.openai.com/v1/chat/completions \"HTTP/1.1 200 OK\"\n"
     ]
    }
   ],
   "source": [
    "wagent = WorkflAgent(functions=repo.functions)\n",
    "\n",
    "query = 'Get the weather data about berlin, write a love poem about the current weather and store the poem in a txt file'\n",
    "output = wagent.ask(query=query)\n",
    "#wagent.execute()\n",
    "\n"
   ]
  },
  {
   "cell_type": "code",
   "execution_count": 6,
   "metadata": {},
   "outputs": [
    {
     "data": {
      "text/plain": [
       "'{\\n    \"get the weather data about Berlin\": [\"write a love poem about the current weather\"],\\n    \"write a love poem about the current weather\": [\"store the poem in a txt file\"],\\n    \"store the poem in a txt file\": []\\n}'"
      ]
     },
     "execution_count": 6,
     "metadata": {},
     "output_type": "execute_result"
    }
   ],
   "source": [
    "wagent.last_response"
   ]
  },
  {
   "cell_type": "code",
   "execution_count": null,
   "metadata": {},
   "outputs": [
    {
     "name": "stderr",
     "output_type": "stream",
     "text": [
      "INFO:root:Executing workflow:\n"
     ]
    },
    {
     "name": "stdout",
     "output_type": "stream",
     "text": [
      "."
     ]
    },
    {
     "name": "stderr",
     "output_type": "stream",
     "text": [
      "INFO:httpx:HTTP Request: POST https://api.openai.com/v1/chat/completions \"HTTP/1.1 200 OK\"\n",
      "INFO:root:START: d_get_current_weather | args: Berlin\n",
      "INFO:root:END: d_get_current_weather \n",
      "INFO:httpx:HTTP Request: POST https://api.openai.com/v1/chat/completions \"HTTP/1.1 200 OK\"\n"
     ]
    },
    {
     "name": "stdout",
     "output_type": "stream",
     "text": [
      "."
     ]
    },
    {
     "name": "stderr",
     "output_type": "stream",
     "text": [
      "INFO:httpx:HTTP Request: POST https://api.openai.com/v1/chat/completions \"HTTP/1.1 200 OK\"\n",
      "INFO:root:START: d_write_text\n",
      "INFO:httpx:HTTP Request: POST https://api.openai.com/v1/chat/completions \"HTTP/1.1 200 OK\"\n",
      "INFO:root:END: d_write_text\n",
      "INFO:httpx:HTTP Request: POST https://api.openai.com/v1/chat/completions \"HTTP/1.1 200 OK\"\n"
     ]
    },
    {
     "name": "stdout",
     "output_type": "stream",
     "text": [
      "."
     ]
    },
    {
     "name": "stderr",
     "output_type": "stream",
     "text": [
      "INFO:httpx:HTTP Request: POST https://api.openai.com/v1/chat/completions \"HTTP/1.1 200 OK\"\n",
      "INFO:root:START: d_write_text\n"
     ]
    }
   ],
   "source": [
    "wagent.execute()"
   ]
  },
  {
   "cell_type": "code",
   "execution_count": 8,
   "metadata": {},
   "outputs": [
    {
     "name": "stderr",
     "output_type": "stream",
     "text": [
      "INFO:httpx:HTTP Request: POST https://api.openai.com/v1/chat/completions \"HTTP/1.1 200 OK\"\n"
     ]
    }
   ],
   "source": [
    "wagent = WorkflAgent(functions=repo.functions)\n",
    "wagent.ask('Suche mir das Wetter für Berlin aus und sende die Informationen an nick.reiter@hotmail.de')\n",
    "#wagent.ask('What is the capital of Germany')\n",
    "#wagent.show_directed_graph()"
   ]
  },
  {
   "cell_type": "code",
   "execution_count": 7,
   "metadata": {},
   "outputs": [
    {
     "data": {
      "image/png": "[encoded data removed]",
      "text/plain": [
       "<Figure size 640x480 with 1 Axes>"
      ]
     },
     "metadata": {},
     "output_type": "display_data"
    }
   ],
   "source": [
    "wagent.show_directed_graph()"
   ]
  },
  {
   "cell_type": "code",
   "execution_count": null,
   "metadata": {},
   "outputs": [],
   "source": [
    "client = OpenAI()\n",
    "\n",
    "response = client.chat.completions.create(\n",
    "  model=\"gpt-3.5-turbo\",\n",
    "  messages=[\n",
    "    {\"role\": \"system\", \"content\": \"You are a helpful assistant.\"},\n",
    "    {\"role\": \"user\", \"content\": \"What is the weather in Freiburg?\"}]\n",
    ")"
   ]
  },
  {
   "cell_type": "code",
   "execution_count": null,
   "metadata": {},
   "outputs": [],
   "source": [
    "response.choices[0].message.content"
   ]
  },
  {
   "cell_type": "code",
   "execution_count": null,
   "metadata": {},
   "outputs": [],
   "source": [
    "response.choices[0].finish_reason"
   ]
  },
  {
   "cell_type": "code",
   "execution_count": null,
   "metadata": {},
   "outputs": [],
   "source": [
    "agent.functions"
   ]
  },
  {
   "cell_type": "code",
   "execution_count": null,
   "metadata": {},
   "outputs": [],
   "source": [
    "import inspect\n",
    "import func_repository.descriptions as desc\n",
    "\n",
    "ls_func = []    \n",
    "\n",
    "for name, obj in inspect.getmembers(desc):\n",
    "    if inspect.isfunction(obj) and name.startswith('d_'): \n",
    "        print(obj)\n",
    "        ls_func.append(obj)\n",
    "\n"
   ]
  },
  {
   "cell_type": "code",
   "execution_count": null,
   "metadata": {},
   "outputs": [],
   "source": [
    "ls_func"
   ]
  },
  {
   "cell_type": "code",
   "execution_count": null,
   "metadata": {},
   "outputs": [],
   "source": []
  },
  {
   "cell_type": "code",
   "execution_count": null,
   "metadata": {},
   "outputs": [],
   "source": []
  },
  {
   "cell_type": "code",
   "execution_count": null,
   "metadata": {},
   "outputs": [],
   "source": []
  },
  {
   "cell_type": "code",
   "execution_count": null,
   "metadata": {},
   "outputs": [],
   "source": [
    "import networkx as nx\n",
    "import matplotlib.pyplot as plt\n",
    "\n",
    "class DirectedGraph:\n",
    "    def __init__(self):\n",
    "        self.graph = nx.DiGraph()\n",
    "\n",
    "    def add_edge(self, start, end):\n",
    "        self.graph.add_edge(start, end)\n",
    "\n",
    "    def display(self):\n",
    "        pos = nx.spring_layout(self.graph)\n",
    "        nx.draw(self.graph, pos, with_labels=True, arrows=True)\n",
    "        plt.show()\n",
    "\n",
    "# Example usage:\n"
   ]
  },
  {
   "cell_type": "code",
   "execution_count": null,
   "metadata": {},
   "outputs": [],
   "source": [
    "from workfl_agent.agent import Agent as WAgent"
   ]
  },
  {
   "cell_type": "code",
   "execution_count": null,
   "metadata": {},
   "outputs": [],
   "source": [
    "wagent = WAgent()\n",
    "res = wagent.ask('Can you please help me? Find a cool excel including data about social changes in Germany in the internet. Download it and then read read it again. Then the information should be summarized. Subsequently send to my boss boss@gdata.de. Repeat from the beginning')"
   ]
  },
  {
   "cell_type": "code",
   "execution_count": null,
   "metadata": {},
   "outputs": [],
   "source": [
    "wagent.ask('Tell me a joke about my mom')"
   ]
  },
  {
   "cell_type": "code",
   "execution_count": null,
   "metadata": {},
   "outputs": [],
   "source": [
    "import json\n",
    "graph_representation = json.loads(res)\n",
    "\n",
    "\n",
    "graph = DirectedGraph()\n",
    "\n",
    "for key in graph_representation:\n",
    "    values = graph_representation[key]\n",
    "    for value in values:\n",
    "        graph.add_edge(key, value)\n",
    "\n",
    "graph.display()"
   ]
  },
  {
   "cell_type": "code",
   "execution_count": null,
   "metadata": {},
   "outputs": [],
   "source": [
    "graph_representation"
   ]
  },
  {
   "cell_type": "code",
   "execution_count": null,
   "metadata": {},
   "outputs": [],
   "source": [
    "import json\n",
    "type(json.loads(res))"
   ]
  },
  {
   "cell_type": "code",
   "execution_count": null,
   "metadata": {},
   "outputs": [],
   "source": [
    "wagent.show_directed_graph()"
   ]
  },
  {
   "cell_type": "code",
   "execution_count": null,
   "metadata": {},
   "outputs": [],
   "source": [
    "from func_repository.descriptions import d_write_text\n",
    "from func_repository.descriptions import d_get_current_weather\n",
    "\n",
    "weather = d_get_current_weather('Berlin')\n",
    "d_write_text(weather, 'write to my boss')"
   ]
  },
  {
   "cell_type": "code",
   "execution_count": null,
   "metadata": {},
   "outputs": [],
   "source": []
  }
 ],
 "metadata": {
  "kernelspec": {
   "display_name": ".venv",
   "language": "python",
   "name": "python3"
  },
  "language_info": {
   "codemirror_mode": {
    "name": "ipython",
    "version": 3
   },
   "file_extension": ".py",
   "mimetype": "text/x-python",
   "name": "python",
   "nbconvert_exporter": "python",
   "pygments_lexer": "ipython3",
   "version": "3.10.12"
  }
 },
 "nbformat": 4,
 "nbformat_minor": 2
}
